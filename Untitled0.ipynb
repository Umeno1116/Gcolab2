{
  "nbformat": 4,
  "nbformat_minor": 0,
  "metadata": {
    "colab": {
      "provenance": [],
      "collapsed_sections": [],
      "mount_file_id": "1rI9iuepzokI0q9mwlNroqDXHIntH7CaO",
      "authorship_tag": "ABX9TyP3rq7y/Ry21RAPIlgCMrG3",
      "include_colab_link": true
    },
    "kernelspec": {
      "name": "python3",
      "display_name": "Python 3"
    },
    "language_info": {
      "name": "python"
    }
  },
  "cells": [
    {
      "cell_type": "markdown",
      "metadata": {
        "id": "view-in-github",
        "colab_type": "text"
      },
      "source": [
        "<a href=\"https://colab.research.google.com/github/Umeno1116/Gcolab2/blob/main/Untitled0.ipynb\" target=\"_parent\"><img src=\"https://colab.research.google.com/assets/colab-badge.svg\" alt=\"Open In Colab\"/></a>"
      ]
    },
    {
      "cell_type": "code",
      "source": [
        "# 7.1節で利用するライブラリ\n",
        "import numpy as np\n",
        "# 実装済みクラスの読み込み設定\n",
        "import sys\n",
        "sys.path.append('/content/drive/MyDrive/ゼミ/deep-learning-from-scratch-2-master')\n",
        "\n",
        "# 実装済みクラスと関数を読み込'\n",
        "from ch06.rnnlm import Rnnlm # LSTMを用いた言語モデル:6.4.1項\n",
        "from common.functions import softmax # Softmax関数:1.3.1項\n",
        "# PTBデータセットを読み込みライブラリのインポート\n",
        "from dataset import ptb\n",
        "\n",
        "# PTBデータセットを読み込み\n",
        "corpus, word_to_id, id_to_word = ptb.load_data('train')\n",
        "\n",
        "# 語彙数(単語の種類数)を取得\n",
        "vocab_size = len(word_to_id)\n",
        "print(vocab_size)\n",
        "\n",
        "# 単語数を取得\n",
        "corpus_size = len(corpus)\n",
        "print(corpus_size)"
      ],
      "metadata": {
        "colab": {
          "base_uri": "https://localhost:8080/"
        },
        "id": "iwnpkDnkVMq-",
        "outputId": "1e006f4b-4d32-4e0a-80ab-d8c150175a51"
      },
      "execution_count": 3,
      "outputs": [
        {
          "output_type": "stream",
          "name": "stdout",
          "text": [
            "Downloading ptb.train.txt ... \n",
            "Done\n",
            "10000\n",
            "929589\n"
          ]
        }
      ]
    }
  ]
}