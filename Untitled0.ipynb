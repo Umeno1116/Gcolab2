{
  "nbformat": 4,
  "nbformat_minor": 0,
  "metadata": {
    "colab": {
      "provenance": [],
      "collapsed_sections": [],
      "mount_file_id": "1rI9iuepzokI0q9mwlNroqDXHIntH7CaO",
      "authorship_tag": "ABX9TyNv5pTt+zMNnkhoRcyMXyRY",
      "include_colab_link": true
    },
    "kernelspec": {
      "name": "python3",
      "display_name": "Python 3"
    },
    "language_info": {
      "name": "python"
    }
  },
  "cells": [
    {
      "cell_type": "markdown",
      "metadata": {
        "id": "view-in-github",
        "colab_type": "text"
      },
      "source": [
        "<a href=\"https://colab.research.google.com/github/Umeno1116/Gcolab2/blob/main/Untitled0.ipynb\" target=\"_parent\"><img src=\"https://colab.research.google.com/assets/colab-badge.svg\" alt=\"Open In Colab\"/></a>"
      ]
    },
    {
      "cell_type": "code",
      "source": [
        "# 7.1節で利用するライブラリ\n",
        "import numpy as np\n",
        "# 実装済みクラスの読み込み設定\n",
        "import sys\n",
        "sys.path.append('/content/drive/MyDrive/ゼミ/deep-learning-from-scratch-2-master')\n",
        "\n",
        "# 実装済みクラスと関数を読み込'\n",
        "from ch06.rnnlm import Rnnlm # LSTMを用いた言語モデル:6.4.1項\n",
        "from common.functions import softmax # Softmax関数:1.3.1項\n",
        "# PTBデータセットを読み込みライブラリのインポート\n",
        "from dataset import ptb\n",
        "\n",
        "# PTBデータセットを読み込み\n",
        "corpus, word_to_id, id_to_word = ptb.load_data('train')\n",
        "\n",
        "# 語彙数(単語の種類数)を取得\n",
        "vocab_size = len(word_to_id)\n",
        "print(vocab_size)\n",
        "\n",
        "# 単語数を取得\n",
        "corpus_size = len(corpus)\n",
        "print(corpus_size)"
      ],
      "metadata": {
        "colab": {
          "base_uri": "https://localhost:8080/"
        },
        "id": "iwnpkDnkVMq-",
        "outputId": "97a43355-e932-4b9f-e00e-441a3fcd0e95"
      },
      "execution_count": 34,
      "outputs": [
        {
          "output_type": "stream",
          "name": "stdout",
          "text": [
            "10000\n",
            "929589\n"
          ]
        }
      ]
    },
    {
      "cell_type": "code",
      "source": [
        "# RNNLMのインスタンスを作成\n",
        "model = Rnnlm()\n",
        "\n",
        "# パラメータの初期値を確認\n",
        "print(model.params[0])\n",
        "print(model.params[0].shape)"
      ],
      "metadata": {
        "colab": {
          "base_uri": "https://localhost:8080/"
        },
        "id": "GNVng6e5W1kk",
        "outputId": "8e34a4e1-9796-4753-a194-e9c821c5b55e"
      },
      "execution_count": 5,
      "outputs": [
        {
          "output_type": "stream",
          "name": "stdout",
          "text": [
            "[[ 0.00710202  0.00074723  0.0017045  ... -0.00169212  0.01015033\n",
            "   0.00189815]\n",
            " [ 0.00226037 -0.01129083 -0.01378691 ...  0.00386665  0.00735357\n",
            "  -0.01797182]\n",
            " [ 0.00162086  0.00886126  0.00609123 ... -0.00441236 -0.00662414\n",
            "   0.00262181]\n",
            " ...\n",
            " [-0.00111388 -0.02084187 -0.0084387  ...  0.00612178  0.02108106\n",
            "  -0.00044094]\n",
            " [-0.01585965 -0.00964651 -0.00442945 ...  0.01846544  0.00978402\n",
            "  -0.0111884 ]\n",
            " [ 0.00798861 -0.01091666 -0.01636042 ...  0.01507455  0.00186271\n",
            "  -0.00302069]]\n",
            "(10000, 100)\n"
          ]
        }
      ]
    },
    {
      "cell_type": "code",
      "source": [
        "# 学習済みパラメータの読み込みに用いるライブラリを読み込み\n",
        "import pickle\n",
        "\n",
        "# 学習済みのパラメータを読み込み\n",
        "model.load_params('/content/drive/MyDrive/ゼミ/deep-learning-from-scratch-2-master/ch06/Rnnlm.pkl')\n",
        "\n",
        "# 学習済みパラメータを確認\n",
        "print(model.params[0])\n",
        "print(model.params[0].shape)"
      ],
      "metadata": {
        "colab": {
          "base_uri": "https://localhost:8080/"
        },
        "id": "M1FUpnHeW_Dl",
        "outputId": "2df973eb-4ee5-47ce-e747-08c54ed3d8b5"
      },
      "execution_count": 7,
      "outputs": [
        {
          "output_type": "stream",
          "name": "stdout",
          "text": [
            "[[-0.06677246  0.01583862 -0.02020264 ...  0.02880859 -0.04953003\n",
            "  -0.04440308]\n",
            " [-0.02687073  0.03942871 -0.01560211 ...  0.04699707 -0.01477814\n",
            "  -0.00024939]\n",
            " [-0.03857422 -0.01062012 -0.00392151 ...  0.02908325  0.0008831\n",
            "  -0.01634216]\n",
            " ...\n",
            " [ 0.15539551 -0.04556274 -0.13183594 ... -0.00358963 -0.13183594\n",
            "   0.03170776]\n",
            " [-0.04196167 -0.08636475 -0.04818726 ... -0.04772949 -0.12255859\n",
            "   0.1050415 ]\n",
            " [-0.05429077 -0.14453125 -0.04364014 ...  0.02078247 -0.07989502\n",
            "   0.0980835 ]]\n",
            "(10000, 100)\n"
          ]
        }
      ]
    },
    {
      "cell_type": "code",
      "source": [
        "# 最初の単語を指定\n",
        "start_word = 'you'\n",
        "\n",
        "# 最初の単語の単語IDを取得\n",
        "start_id = word_to_id[start_word]\n",
        "print(start_id)"
      ],
      "metadata": {
        "colab": {
          "base_uri": "https://localhost:8080/"
        },
        "id": "dgnIO-_-XKGO",
        "outputId": "48f3b048-234c-4bb7-e91c-c4805867c6fb"
      },
      "execution_count": 8,
      "outputs": [
        {
          "output_type": "stream",
          "name": "stdout",
          "text": [
            "316\n"
          ]
        }
      ]
    },
    {
      "cell_type": "code",
      "source": [
        "# 入力用に2次元配列に変換\n",
        "x = np.array([start_id]).reshape((1, 1))\n",
        "print(x)\n",
        "\n",
        "# スコアを計算\n",
        "score = model.predict(x)\n",
        "print(np.round(score, 5))\n",
        "print(np.sum(score))\n",
        "\n",
        "# 正規化して確率分布に変換\n",
        "p = softmax(score.flatten())\n",
        "print(np.round(p, 6))\n",
        "print(np.sum(p))"
      ],
      "metadata": {
        "colab": {
          "base_uri": "https://localhost:8080/"
        },
        "id": "fdBfoZR4XMvz",
        "outputId": "70a6df43-4e67-404d-fb8e-b0029dc4ab46"
      },
      "execution_count": 9,
      "outputs": [
        {
          "output_type": "stream",
          "name": "stdout",
          "text": [
            "[[316]]\n",
            "[[[-1.2524  -0.86319 -1.38948 ... -0.42281 -0.01607 -0.3905 ]]]\n",
            "-37.515747\n",
            "[2.e-06 4.e-06 2.e-06 ... 6.e-06 9.e-06 6.e-06]\n",
            "1.0000001\n"
          ]
        }
      ]
    },
    {
      "cell_type": "code",
      "source": [
        "# 確率の最大値\n",
        "print(np.max(p))\n",
        "\n",
        "# 確率が最大の単語ID\n",
        "print(np.argmax(p))\n",
        "\n",
        "# 確率が最大の単語\n",
        "print(id_to_word[np.argmax(p)])"
      ],
      "metadata": {
        "colab": {
          "base_uri": "https://localhost:8080/"
        },
        "id": "imI5k8B0XSM5",
        "outputId": "d8354f9a-eb4e-49e9-eba1-ca112416e320"
      },
      "execution_count": 11,
      "outputs": [
        {
          "output_type": "stream",
          "name": "stdout",
          "text": [
            "0.07818616\n",
            "131\n",
            "'re\n"
          ]
        }
      ]
    },
    {
      "cell_type": "code",
      "source": [
        "# 次の単語をサンプリング\n",
        "sampled = np.random.choice(len(p), size=1, p=p)\n",
        "print(sampled)\n",
        "\n",
        "# 単語を確認\n",
        "print(id_to_word[sampled[0]])"
      ],
      "metadata": {
        "colab": {
          "base_uri": "https://localhost:8080/"
        },
        "id": "5GMhpB26XVwN",
        "outputId": "4bbc4f1e-1135-44fb-b7f0-1f684f6c0e1b"
      },
      "execution_count": 15,
      "outputs": [
        {
          "output_type": "stream",
          "name": "stdout",
          "text": [
            "[26]\n",
            "<unk>\n"
          ]
        }
      ]
    },
    {
      "cell_type": "code",
      "source": [
        "# サンプリングする単語数を指定\n",
        "sample_size = 10\n",
        "\n",
        "# サンプルしない単語を指定\n",
        "skip_words = ['N', '<unk>', '$']\n",
        "\n",
        "# サンプルしない単語の単語IDを取得\n",
        "skip_ids = [word_to_id[w] for w in skip_words]\n",
        "print(skip_ids)"
      ],
      "metadata": {
        "colab": {
          "base_uri": "https://localhost:8080/"
        },
        "id": "MMJtMAIEXaBc",
        "outputId": "014dbf64-cc10-4214-d818-cc2391ed9e21"
      },
      "execution_count": 16,
      "outputs": [
        {
          "output_type": "stream",
          "name": "stdout",
          "text": [
            "[27, 26, 416]\n"
          ]
        }
      ]
    },
    {
      "cell_type": "code",
      "source": [
        "# 単語IDの受け皿を初期化\n",
        "word_ids = [start_id]\n",
        "\n",
        "# 入力する単語を設定\n",
        "x = start_id\n",
        "\n",
        "# サンプリング\n",
        "while len(word_ids) < sample_size: # 指定された単語数になるまで\n",
        "    # 入力用に2次元配列に変換\n",
        "    x = np.array(x).reshape((1, 1))\n",
        "    \n",
        "    # スコアを計算\n",
        "    score = model.predict(x)\n",
        "    \n",
        "    # 正規化して確率分布に変換\n",
        "    p = softmax(score.flatten())\n",
        "    \n",
        "    # 単語IDをサンプリング\n",
        "    sampled = np.random.choice(len(p), size=1, p=p)\n",
        "    \n",
        "    # 記録\n",
        "    if (skip_ids is None) or (sampled not in skip_ids): # スキップワードでないとき\n",
        "        # 入力単語を更新\n",
        "        x = sampled\n",
        "        \n",
        "        # サンプルされた単語をリストに格納\n",
        "        word_ids.append(int(x))"
      ],
      "metadata": {
        "id": "GySLeYMLXeji"
      },
      "execution_count": 20,
      "outputs": []
    },
    {
      "cell_type": "code",
      "source": [
        "# サンプリングされた単語ID\n",
        "print(word_ids)"
      ],
      "metadata": {
        "colab": {
          "base_uri": "https://localhost:8080/"
        },
        "id": "f_GZdciKXiyv",
        "outputId": "38572560-8a15-4c84-ac0f-abbb500413aa"
      },
      "execution_count": 26,
      "outputs": [
        {
          "output_type": "stream",
          "name": "stdout",
          "text": [
            "[316, 2597, 64, 2813, 64, 1817, 5083, 1730, 316, 159]\n"
          ]
        }
      ]
    },
    {
      "cell_type": "code",
      "source": [
        "# 単語を結合\n",
        "txt = ' '.join([id_to_word[w_id] for w_id in word_ids])\n",
        "print(txt)"
      ],
      "metadata": {
        "colab": {
          "base_uri": "https://localhost:8080/"
        },
        "id": "VnQHDud3XmIQ",
        "outputId": "8dacec0e-6071-451f-ecd1-7a01aaa6f549"
      },
      "execution_count": 27,
      "outputs": [
        {
          "output_type": "stream",
          "name": "stdout",
          "text": [
            "you wanted to me to see fear how you are\n"
          ]
        }
      ]
    },
    {
      "cell_type": "code",
      "source": [
        "# 文章生成用の言語モデルの実装\n",
        "class RnnlmGen(Rnnlm):\n",
        "    # 文章生成メソッド\n",
        "    def generate(self, start_id, skip_ids=None, sample_size=100):\n",
        "        # 単語IDの受け皿を初期化\n",
        "        word_ids = [start_id]\n",
        "        \n",
        "        # 最初の単語IDを設定\n",
        "        x = start_id\n",
        "        \n",
        "        # 文章を生成\n",
        "        while len(word_ids) < sample_size: # 指定された単語数になるまで\n",
        "            # 入力用に2次元配列に変換\n",
        "            x = np.array(x).reshape((1, 1))\n",
        "            \n",
        "            # スコアを計算\n",
        "            score = self.predict(x)\n",
        "            \n",
        "            # 正規化して確率分布に変換\n",
        "            p = softmax(score.flatten())\n",
        "            \n",
        "            # 単語IDをサンプリング\n",
        "            sampled = np.random.choice(len(p), size=1, p=p)\n",
        "            \n",
        "            # 記録\n",
        "            if (skip_ids is None) or (sampled not in skip_ids): # スキップワードでないとき\n",
        "                # 入力単語を更新\n",
        "                x = sampled\n",
        "                \n",
        "                # サンプルされた単語をリストに格納\n",
        "                word_ids.append(int(x))\n",
        "        \n",
        "        return word_ids"
      ],
      "metadata": {
        "id": "uIe62Eq9XtlC"
      },
      "execution_count": 28,
      "outputs": []
    },
    {
      "cell_type": "code",
      "source": [
        "# 文章ジェネレータのインスタンスを作成\n",
        "model = RnnlmGen()\n",
        "\n",
        "# 学習済みのパラメータを読み込み\n",
        "model.load_params('/content/drive/MyDrive/ゼミ/deep-learning-from-scratch-2-master/ch06/Rnnlm.pkl')"
      ],
      "metadata": {
        "id": "gM1NmFMIXwAA"
      },
      "execution_count": 30,
      "outputs": []
    },
    {
      "cell_type": "code",
      "source": [
        "# 文章生成(単語IDをサンプリング)\n",
        "word_ids = model.generate(start_id, skip_ids, sample_size=100)\n",
        "print(word_ids)"
      ],
      "metadata": {
        "colab": {
          "base_uri": "https://localhost:8080/"
        },
        "id": "m1_QNDsFX1yl",
        "outputId": "50181380-af2a-44c0-b789-3e16e8d029a6"
      },
      "execution_count": 31,
      "outputs": [
        {
          "output_type": "stream",
          "name": "stdout",
          "text": [
            "[316, 674, 42, 138, 879, 8064, 4175, 9771, 2849, 668, 24, 225, 30, 154, 718, 1821, 220, 1118, 625, 3192, 87, 1085, 1167, 753, 93, 718, 65, 79, 80, 702, 42, 8338, 4096, 103, 119, 115, 812, 8800, 2855, 1168, 169, 863, 459, 864, 181, 247, 1028, 24, 108, 3149, 3607, 35, 46, 42, 1244, 24, 32, 6157, 4298, 30, 65, 410, 181, 32, 499, 685, 1186, 24, 78, 623, 3552, 7066, 1497, 467, 188, 160, 1000, 209, 160, 1112, 652, 2119, 34, 108, 5043, 64, 2747, 32, 2684, 24, 2662, 6594, 40, 4360, 24, 409, 583, 345, 40, 566]\n"
          ]
        }
      ]
    },
    {
      "cell_type": "code",
      "source": [
        "# 単語を結合\n",
        "txt = ' '.join([id_to_word[w_id] for w_id in word_ids])\n",
        "print(txt)"
      ],
      "metadata": {
        "colab": {
          "base_uri": "https://localhost:8080/"
        },
        "id": "Zd88Y-_TX8wa",
        "outputId": "7f9c1021-5d37-4314-dff5-066f7f155f67"
      },
      "execution_count": 35,
      "outputs": [
        {
          "output_type": "stream",
          "name": "stdout",
          "text": [
            "you say of any substantial shipment highlight permanently enhanced them <eos> he will have would increasingly be several special dispute with computer equipment news that would make more than exports of colombian supplies corp. 's latest big guardian laws addition from chief financial officer for one month <eos> in sacramento calif. a group of taiwan <eos> the rumor checks will make investors for the government trade range <eos> it could hurt driven broken or sold at dec. higher at least two balls as in unwilling to discuss the region <eos> lying statements is doors <eos> despite course money is not\n"
          ]
        }
      ]
    }
  ]
}