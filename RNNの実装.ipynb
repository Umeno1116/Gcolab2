{
  "cells": [
    {
      "cell_type": "markdown",
      "metadata": {
        "id": "view-in-github",
        "colab_type": "text"
      },
      "source": [
        "<a href=\"https://colab.research.google.com/github/Umeno1116/Gcolab2/blob/main/RNN%E3%81%AE%E5%AE%9F%E8%A3%85.ipynb\" target=\"_parent\"><img src=\"https://colab.research.google.com/assets/colab-badge.svg\" alt=\"Open In Colab\"/></a>"
      ]
    },
    {
      "cell_type": "markdown",
      "source": [
        "RNNレイヤの実装\n"
      ],
      "metadata": {
        "id": "7rQ2Hhl7SDFU"
      }
    },
    {
      "cell_type": "code",
      "source": [
        "from _typeshed import Self\n",
        "\n",
        "\n",
        "class RNN:\n",
        "\n",
        "\n",
        "def __init__(self, Wx, Wh, b):\n",
        "    self.params = [Wx, Wh, b]\n",
        "    self.grads = [np.zeros_like(Wx), np.zeros_like(Wh), np.zeros_like(b)]\n",
        "    self.cache = None\n",
        "\n",
        "\n",
        "def forward(self, x, h_prev):\n",
        "        Wx, Wh, b = self.params\n",
        "    t = np.dot(h_prev,Wh) + np.dot(x,Wx) + b\n",
        "    h_next = np.tanh(t)\n",
        "\n",
        "    self.cache = (x,h_prev,h_next)\n",
        "    return h_next"
      ],
      "metadata": {
        "id": "DTQAXqqlL6Ak"
      },
      "execution_count": null,
      "outputs": []
    },
    {
      "cell_type": "markdown",
      "source": [
        "TimeRNNの実装\n"
      ],
      "metadata": {
        "id": "Zu_2A8ugRsRz"
      }
    },
    {
      "cell_type": "code",
      "source": [
        "from _typeshed import Self\n",
        "\n",
        "\n",
        "class TimeRNN:\n",
        "\n",
        "\n",
        "def __init__(self, Wx, Wh, b,stateful=False):\n",
        "    self.params = [Wx, Wh, b]\n",
        "    self.grads = [np.zeros_like(Wx), np.zeros_like(Wh), np.zeros_like(b)]\n",
        "    self.layers = None\n",
        "\n",
        "    self.h,self.dh = None, None\n",
        "    self.stateful = stateful\n",
        "\n",
        "\n",
        "    def set_state(self,h):\n",
        "    self.h = h\n",
        "\n",
        "    def reset_state(self):\n",
        "    self.h = None"
      ],
      "metadata": {
        "id": "K3cC40anOh5z"
      },
      "execution_count": null,
      "outputs": []
    },
    {
      "cell_type": "markdown",
      "source": [
        "順伝播の実装\n"
      ],
      "metadata": {
        "id": "WJf6FUk9SLra"
      }
    },
    {
      "cell_type": "code",
      "source": [
        "  def forward(self,xs):\n",
        "      Wx,Wh,b = self.params\n",
        "      N,T,D = xs.shape\n",
        "      D,H = Wx.shape\n",
        "\n",
        "      self.layers = []\n",
        "      hs = np.empty((N,T,H), dtype='f')\n",
        "\n",
        "      if not self.stateful or self.h is None:\n",
        "          self.h = np.zerps((N,H), dtype='f')\n",
        "\n",
        "      for t in range(T):\n",
        "          layer = RNN(self.params)\n",
        "          self.h = layer.forward(xs[:,t,;],self.h)\n",
        "          hs[:,t,:] = self.h\n",
        "          self.layers.append(layer)\n",
        "\n",
        "      return hs"
      ],
      "metadata": {
        "id": "ZJCZufgFSR-E"
      },
      "execution_count": null,
      "outputs": []
    },
    {
      "cell_type": "markdown",
      "source": [
        "逆伝播の実装"
      ],
      "metadata": {
        "id": "D0o_GeaoZ1Bu"
      }
    },
    {
      "cell_type": "code",
      "source": [
        "    def backward(self,dhs):\n",
        "        Wx,Wh,b = self.params\n",
        "        N,T,H = dhs.shape\n",
        "        D,H = Wx.shape\n",
        "\n",
        "        dxs = np.empty((N,T,D), dtype='f')\n",
        "        dh = 0\n",
        "        gras = [0,0,0]\n",
        "        for t in reversed(range(T)):\n",
        "        layer = self.layers[t]\n",
        "        dx,dh = layer.backward(shs[:,t,:]+dh) #合算した勾配\n",
        "        \n",
        "\n",
        "\n",
        "\n",
        "\n",
        "\n"
      ],
      "metadata": {
        "id": "8lUyGRuFouNT"
      },
      "execution_count": null,
      "outputs": []
    }
  ],
  "metadata": {
    "colab": {
      "provenance": [],
      "collapsed_sections": [],
      "toc_visible": true,
      "authorship_tag": "ABX9TyMLhoHQTYBxxdgOhsud0o68",
      "include_colab_link": true
    },
    "kernelspec": {
      "display_name": "Python 3",
      "name": "python3"
    },
    "language_info": {
      "name": "python"
    }
  },
  "nbformat": 4,
  "nbformat_minor": 0
}