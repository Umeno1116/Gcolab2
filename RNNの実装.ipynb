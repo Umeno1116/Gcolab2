{
  "cells": [
    {
      "cell_type": "markdown",
      "metadata": {
        "id": "view-in-github",
        "colab_type": "text"
      },
      "source": [
        "<a href=\"https://colab.research.google.com/github/Umeno1116/Gcolab2/blob/main/RNN%E3%81%AE%E5%AE%9F%E8%A3%85.ipynb\" target=\"_parent\"><img src=\"https://colab.research.google.com/assets/colab-badge.svg\" alt=\"Open In Colab\"/></a>"
      ]
    },
    {
      "cell_type": "markdown",
      "source": [
        "RNNレイヤの実装実装\n"
      ],
      "metadata": {
        "id": "7rQ2Hhl7SDFU"
      }
    },
    {
      "cell_type": "code",
      "source": [
        "from _typeshed import Self\n",
        "\n",
        "\n",
        "class RNN:\n",
        "\n",
        "\n",
        "def __init__(self, Wx, Wh, b):\n",
        "    self.params = [Wx, Wh, b]\n",
        "    self.grads = [np.zeros_like(Wx), np.zeros_like(Wh), np.zeros_like(b)]\n",
        "    self.cache = None\n",
        "\n",
        "\n",
        "def forward(self, x, h_prev):\n",
        "        Wx, Wh, b = self.params\n",
        "    t = np.dot(h_prev,Wh) + np.dot(x,Wx) + b\n",
        "    h_next = np.tanh(t)\n",
        "\n",
        "    self.cache = (x,h_prev,h_next)\n",
        "    return h_next"
      ],
      "metadata": {
        "colab": {
          "base_uri": "https://localhost:8080/",
          "height": 130
        },
        "id": "DTQAXqqlL6Ak",
        "outputId": "0ec59f73-2ce5-4cca-9d18-64895418d849"
      },
      "execution_count": null,
      "outputs": [
        {
          "output_type": "error",
          "ename": "IndentationError",
          "evalue": "ignored",
          "traceback": [
            "\u001b[0;36m  File \u001b[0;32m\"<tokenize>\"\u001b[0;36m, line \u001b[0;32m15\u001b[0m\n\u001b[0;31m    t = np.dot(h_prev,Wh) + np.dot(x,Wx) + b\u001b[0m\n\u001b[0m    ^\u001b[0m\n\u001b[0;31mIndentationError\u001b[0m\u001b[0;31m:\u001b[0m unindent does not match any outer indentation level\n"
          ]
        }
      ]
    },
    {
      "cell_type": "markdown",
      "source": [
        "TimeRNNの実装\n"
      ],
      "metadata": {
        "id": "Zu_2A8ugRsRz"
      }
    },
    {
      "cell_type": "code",
      "source": [
        "from _typeshed import Self\n",
        "\n",
        "\n",
        "class TimeRNN:\n",
        "\n",
        "\n",
        "def __init__(self, Wx, Wh, b,stateful=False):\n",
        "    self.params = [Wx, Wh, b]\n",
        "    self.grads = [np.zeros_like(Wx), np.zeros_like(Wh), np.zeros_like(b)]\n",
        "    self.layers = None\n",
        "\n",
        "    self.h,self.dh = None, None\n",
        "    self.stateful = stateful\n",
        "\n",
        "\n",
        "    def set_state(self,h):\n",
        "    self.h = h\n",
        "\n",
        "    def reset_state(self):\n",
        "    self.h = h"
      ],
      "metadata": {
        "colab": {
          "base_uri": "https://localhost:8080/",
          "height": 130
        },
        "id": "K3cC40anOh5z",
        "outputId": "b551fa83-f408-4497-a2b6-80bc0ec615ad"
      },
      "execution_count": null,
      "outputs": [
        {
          "output_type": "error",
          "ename": "IndentationError",
          "evalue": "ignored",
          "traceback": [
            "\u001b[0;36m  File \u001b[0;32m\"<ipython-input-1-6e352304bdd3>\"\u001b[0;36m, line \u001b[0;32m7\u001b[0m\n\u001b[0;31m    def __init__(self, Wx, Wh, b,stateful=False):\u001b[0m\n\u001b[0m      ^\u001b[0m\n\u001b[0;31mIndentationError\u001b[0m\u001b[0;31m:\u001b[0m expected an indented block\n"
          ]
        }
      ]
    },
    {
      "cell_type": "markdown",
      "source": [
        "順伝播の実装\n"
      ],
      "metadata": {
        "id": "WJf6FUk9SLra"
      }
    },
    {
      "cell_type": "code",
      "source": [
        "  def forward(self,xs):\n",
        "      Wx,Wh,b = self.params\n",
        "      N,T,D = xs.shape\n",
        "      D,H = Wx.shape\n",
        "\n",
        "      self.layers = []\n",
        "      hs = np.empty((N,T,H), dtype='f')\n",
        "\n",
        "      if not self.stateful or self.h is None:\n",
        "      self.h = np.zerps((N,H), dtype='f')\n"
      ],
      "metadata": {
        "id": "ZJCZufgFSR-E"
      },
      "execution_count": null,
      "outputs": []
    }
  ],
  "metadata": {
    "colab": {
      "provenance": [],
      "collapsed_sections": [],
      "toc_visible": true,
      "authorship_tag": "ABX9TyMbfcBOohYN2zIDHMMTZB7j",
      "include_colab_link": true
    },
    "kernelspec": {
      "display_name": "Python 3",
      "name": "python3"
    },
    "language_info": {
      "name": "python"
    }
  },
  "nbformat": 4,
  "nbformat_minor": 0
}